{
 "cells": [
  {
   "cell_type": "markdown",
   "id": "9b1602d0",
   "metadata": {},
   "source": [
    "IMPORT LIBRARIES"
   ]
  },
  {
   "cell_type": "code",
   "execution_count": 3,
   "id": "786388c1",
   "metadata": {},
   "outputs": [],
   "source": [
    "import os\n",
    "import cv2\n",
    "import numpy as np\n",
    "import matplotlib.pyplot as plt\n",
    "from sklearn.model_selection import train_test_split\n",
    "from sklearn.ensemble import RandomForestClassifier\n",
    "from sklearn.metrics import accuracy_score\n",
    "import seaborn as sns\n",
    "from sklearn.metrics import confusion_matrix\n"
   ]
  },
  {
   "cell_type": "markdown",
   "id": "9c00377e",
   "metadata": {},
   "source": [
    "CHECKING IF FILES ACCESSIBLE "
   ]
  },
  {
   "cell_type": "code",
   "execution_count": 19,
   "id": "0bf408a9",
   "metadata": {},
   "outputs": [
    {
     "name": "stdout",
     "output_type": "stream",
     "text": [
      "✅ Found: C:\\Users\\Hello\\Desktop\\project folder\n",
      "✅ Found: C:\\Users\\Hello\\Desktop\\project folder\\eye_dataset\n",
      "✅ Found: C:\\Users\\Hello\\Desktop\\project folder\\eye_dataset\\train\n",
      "✅ Found: C:\\Users\\Hello\\Desktop\\project folder\\eye_dataset\\train\\open\n",
      "✅ Found: C:\\Users\\Hello\\Desktop\\project folder\\eye_dataset\\train\\closed\n",
      "✅ Found: C:\\Users\\Hello\\Desktop\\project folder\\eye_dataset\\test\n",
      "✅ Found: C:\\Users\\Hello\\Desktop\\project folder\\eye_dataset\\test\\open\n",
      "✅ Found: C:\\Users\\Hello\\Desktop\\project folder\\eye_dataset\\test\\closed\n"
     ]
    }
   ],
   "source": [
    "import os\n",
    "\n",
    "# Define your folder paths\n",
    "paths = [\n",
    "    \"C:\\\\Users\\\\Hello\\\\Desktop\\\\project folder\",\n",
    "    \"C:\\\\Users\\\\Hello\\\\Desktop\\\\project folder\\\\eye_dataset\",\n",
    "    \"C:\\\\Users\\\\Hello\\\\Desktop\\\\project folder\\\\eye_dataset\\\\train\",\n",
    "    \"C:\\\\Users\\\\Hello\\\\Desktop\\\\project folder\\\\eye_dataset\\\\train\\\\open\",\n",
    "    \"C:\\\\Users\\\\Hello\\\\Desktop\\\\project folder\\\\eye_dataset\\\\train\\\\closed\",\n",
    "    \"C:\\\\Users\\\\Hello\\\\Desktop\\\\project folder\\\\eye_dataset\\\\test\",\n",
    "    \"C:\\\\Users\\\\Hello\\\\Desktop\\\\project folder\\\\eye_dataset\\\\test\\\\open\",\n",
    "    \"C:\\\\Users\\\\Hello\\\\Desktop\\\\project folder\\\\eye_dataset\\\\test\\\\closed\"\n",
    "]\n",
    "\n",
    "# Check each path\n",
    "for path in paths:\n",
    "    if os.path.exists(path):\n",
    "        print(f\"✅ Found: {path}\")\n",
    "    else:\n",
    "        print(f\"❌ Not Found: {path}\")\n"
   ]
  },
  {
   "cell_type": "markdown",
   "id": "2690a833",
   "metadata": {},
   "source": [
    "Load and Preprocess the Images"
   ]
  },
  {
   "cell_type": "code",
   "execution_count": 20,
   "id": "b6fbc4fb",
   "metadata": {},
   "outputs": [
    {
     "name": "stdout",
     "output_type": "stream",
     "text": [
      "✅ Training data shape: (10, 64, 64, 1)\n",
      "✅ Testing data shape: (10, 64, 64, 1)\n"
     ]
    }
   ],
   "source": [
    "import cv2\n",
    "import numpy as np\n",
    "\n",
    "# Set base path\n",
    "base_path = \"C:\\\\Users\\\\Hello\\\\Desktop\\\\project folder\\\\eye_dataset\"\n",
    "\n",
    "# Function to load and process images\n",
    "def load_images_from_folder(folder, label, image_size=(64, 64)):\n",
    "    images = []\n",
    "    labels = []\n",
    "    for filename in os.listdir(folder):\n",
    "        img_path = os.path.join(folder, filename)\n",
    "        img = cv2.imread(img_path, cv2.IMREAD_GRAYSCALE)\n",
    "        if img is not None:\n",
    "            img = cv2.resize(img, image_size)\n",
    "            images.append(img)\n",
    "            labels.append(label)\n",
    "    return images, labels\n",
    "\n",
    "# Load all images with labels\n",
    "train_open, train_open_labels = load_images_from_folder(base_path + \"\\\\train\\\\open\", 1)\n",
    "train_closed, train_closed_labels = load_images_from_folder(base_path + \"\\\\train\\\\closed\", 0)\n",
    "test_open, test_open_labels = load_images_from_folder(base_path + \"\\\\test\\\\open\", 1)\n",
    "test_closed, test_closed_labels = load_images_from_folder(base_path + \"\\\\test\\\\closed\", 0)\n",
    "\n",
    "# Combine data and labels\n",
    "X_train = np.array(train_open + train_closed)\n",
    "y_train = np.array(train_open_labels + train_closed_labels)\n",
    "\n",
    "X_test = np.array(test_open + test_closed)\n",
    "y_test = np.array(test_open_labels + test_closed_labels)\n",
    "\n",
    "# Reshape to add channel dimension (grayscale)\n",
    "X_train = X_train.reshape(-1, 64, 64, 1)\n",
    "X_test = X_test.reshape(-1, 64, 64, 1)\n",
    "\n",
    "print(\"✅ Training data shape:\", X_train.shape)\n",
    "print(\"✅ Testing data shape:\", X_test.shape)\n"
   ]
  },
  {
   "cell_type": "markdown",
   "id": "55b288e0",
   "metadata": {},
   "source": [
    "Flatten the Image Data for Scikit-learn\n"
   ]
  },
  {
   "cell_type": "code",
   "execution_count": 21,
   "id": "6a31f851",
   "metadata": {},
   "outputs": [
    {
     "name": "stdout",
     "output_type": "stream",
     "text": [
      "✅ Flattened training shape: (10, 4096)\n",
      "✅ Flattened testing shape: (10, 4096)\n"
     ]
    }
   ],
   "source": [
    "# Flatten the image arrays for Scikit-learn\n",
    "X_train_flat = X_train.reshape(X_train.shape[0], -1)\n",
    "X_test_flat = X_test.reshape(X_test.shape[0], -1)\n",
    "\n",
    "print(\"✅ Flattened training shape:\", X_train_flat.shape)\n",
    "print(\"✅ Flattened testing shape:\", X_test_flat.shape)\n"
   ]
  },
  {
   "cell_type": "markdown",
   "id": "7e6942a9",
   "metadata": {},
   "source": [
    "Train a Simple Model using Scikit-learn (SVM Classifier)"
   ]
  },
  {
   "cell_type": "code",
   "execution_count": 22,
   "id": "2f33de95",
   "metadata": {},
   "outputs": [
    {
     "name": "stdout",
     "output_type": "stream",
     "text": [
      "✅ Accuracy: 70.00%\n",
      "\n",
      "📊 Classification Report:\n",
      "              precision    recall  f1-score   support\n",
      "\n",
      "      Closed       0.67      0.80      0.73         5\n",
      "        Open       0.75      0.60      0.67         5\n",
      "\n",
      "    accuracy                           0.70        10\n",
      "   macro avg       0.71      0.70      0.70        10\n",
      "weighted avg       0.71      0.70      0.70        10\n",
      "\n",
      "\n",
      "🌀 Confusion Matrix:\n",
      "[[4 1]\n",
      " [2 3]]\n"
     ]
    }
   ],
   "source": [
    "from sklearn.svm import SVC\n",
    "from sklearn.metrics import accuracy_score, classification_report, confusion_matrix\n",
    "\n",
    "# Initialize and train the model\n",
    "model = SVC(kernel='linear')  # You can try 'rbf' or 'poly' too\n",
    "model.fit(X_train_flat, y_train)\n",
    "\n",
    "# Make predictions\n",
    "y_pred = model.predict(X_test_flat)\n",
    "\n",
    "# Evaluate the model\n",
    "accuracy = accuracy_score(y_test, y_pred)\n",
    "print(f\"✅ Accuracy: {accuracy * 100:.2f}%\")\n",
    "\n",
    "print(\"\\n📊 Classification Report:\")\n",
    "print(classification_report(y_test, y_pred, target_names=['Closed', 'Open']))\n",
    "\n",
    "print(\"\\n🌀 Confusion Matrix:\")\n",
    "print(confusion_matrix(y_test, y_pred))\n"
   ]
  }
 ],
 "metadata": {
  "kernelspec": {
   "display_name": "venv",
   "language": "python",
   "name": "python3"
  },
  "language_info": {
   "codemirror_mode": {
    "name": "ipython",
    "version": 3
   },
   "file_extension": ".py",
   "mimetype": "text/x-python",
   "name": "python",
   "nbconvert_exporter": "python",
   "pygments_lexer": "ipython3",
   "version": "3.13.3"
  }
 },
 "nbformat": 4,
 "nbformat_minor": 5
}
